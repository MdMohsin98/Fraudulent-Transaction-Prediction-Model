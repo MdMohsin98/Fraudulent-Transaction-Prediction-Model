{
 "cells": [
  {
   "cell_type": "markdown",
   "id": "ea93763a",
   "metadata": {},
   "source": [
    "# Data Dictionary"
   ]
  },
  {
   "cell_type": "markdown",
   "id": "420dd9b4",
   "metadata": {},
   "source": [
    "step - maps a unit of time in the real world. In this case 1 step is 1 hour of time. Total steps 744 (30 days simulation).\n",
    "\n",
    "type - CASH-IN, CASH-OUT, DEBIT, PAYMENT and TRANSFER.\n",
    "\n",
    "amount - amount of the transaction in local currency.\n",
    "\n",
    "nameOrig - customer who started the transaction\n",
    "\n",
    "oldbalanceOrg - initial balance before the transaction\n",
    "\n",
    "newbalanceOrig - new balance after the transaction\n",
    "\n",
    "nameDest - customer who is the recipient of the transaction\n",
    "\n",
    "oldbalanceDest - initial balance recipient before the transaction. Note that there is not information for customers that start with M (Merchants).\n",
    "\n",
    "newbalanceDest - new balance recipient after the transaction. Note that there is not information for customers that start with M (Merchants).\n",
    "\n",
    "isFraud - This is the transactions made by the fraudulent agents inside the simulation. In this specific dataset the fraudulent behavior of the agents aims to profit by taking control or customers accounts and try to empty the funds by transferring to another account and then cashing out of the system.\n",
    "\n",
    "isFlaggedFraud - The business model aims to control massive transfers from one account to another and flags illegal attempts. An illegal attempt in this dataset is an attempt to transfer more than 200.000 in a single transaction."
   ]
  },
  {
   "cell_type": "code",
   "execution_count": 1,
   "id": "47cc60e6",
   "metadata": {},
   "outputs": [],
   "source": [
    "# importing required libraries\n",
    "import pandas as pd\n",
    "import numpy as np"
   ]
  },
  {
   "cell_type": "code",
   "execution_count": 2,
   "id": "2605760c",
   "metadata": {
    "scrolled": true
   },
   "outputs": [
    {
     "data": {
      "text/html": [
       "<div>\n",
       "<style scoped>\n",
       "    .dataframe tbody tr th:only-of-type {\n",
       "        vertical-align: middle;\n",
       "    }\n",
       "\n",
       "    .dataframe tbody tr th {\n",
       "        vertical-align: top;\n",
       "    }\n",
       "\n",
       "    .dataframe thead th {\n",
       "        text-align: right;\n",
       "    }\n",
       "</style>\n",
       "<table border=\"1\" class=\"dataframe\">\n",
       "  <thead>\n",
       "    <tr style=\"text-align: right;\">\n",
       "      <th></th>\n",
       "      <th>step</th>\n",
       "      <th>type</th>\n",
       "      <th>amount</th>\n",
       "      <th>nameOrig</th>\n",
       "      <th>oldbalanceOrg</th>\n",
       "      <th>newbalanceOrig</th>\n",
       "      <th>nameDest</th>\n",
       "      <th>oldbalanceDest</th>\n",
       "      <th>newbalanceDest</th>\n",
       "      <th>isFraud</th>\n",
       "      <th>isFlaggedFraud</th>\n",
       "    </tr>\n",
       "  </thead>\n",
       "  <tbody>\n",
       "    <tr>\n",
       "      <th>0</th>\n",
       "      <td>1</td>\n",
       "      <td>PAYMENT</td>\n",
       "      <td>9839.64</td>\n",
       "      <td>C1231006815</td>\n",
       "      <td>170136.0</td>\n",
       "      <td>160296.36</td>\n",
       "      <td>M1979787155</td>\n",
       "      <td>0.0</td>\n",
       "      <td>0.0</td>\n",
       "      <td>0</td>\n",
       "      <td>0</td>\n",
       "    </tr>\n",
       "    <tr>\n",
       "      <th>1</th>\n",
       "      <td>1</td>\n",
       "      <td>PAYMENT</td>\n",
       "      <td>1864.28</td>\n",
       "      <td>C1666544295</td>\n",
       "      <td>21249.0</td>\n",
       "      <td>19384.72</td>\n",
       "      <td>M2044282225</td>\n",
       "      <td>0.0</td>\n",
       "      <td>0.0</td>\n",
       "      <td>0</td>\n",
       "      <td>0</td>\n",
       "    </tr>\n",
       "    <tr>\n",
       "      <th>2</th>\n",
       "      <td>1</td>\n",
       "      <td>TRANSFER</td>\n",
       "      <td>181.00</td>\n",
       "      <td>C1305486145</td>\n",
       "      <td>181.0</td>\n",
       "      <td>0.00</td>\n",
       "      <td>C553264065</td>\n",
       "      <td>0.0</td>\n",
       "      <td>0.0</td>\n",
       "      <td>1</td>\n",
       "      <td>0</td>\n",
       "    </tr>\n",
       "    <tr>\n",
       "      <th>3</th>\n",
       "      <td>1</td>\n",
       "      <td>CASH_OUT</td>\n",
       "      <td>181.00</td>\n",
       "      <td>C840083671</td>\n",
       "      <td>181.0</td>\n",
       "      <td>0.00</td>\n",
       "      <td>C38997010</td>\n",
       "      <td>21182.0</td>\n",
       "      <td>0.0</td>\n",
       "      <td>1</td>\n",
       "      <td>0</td>\n",
       "    </tr>\n",
       "    <tr>\n",
       "      <th>4</th>\n",
       "      <td>1</td>\n",
       "      <td>PAYMENT</td>\n",
       "      <td>11668.14</td>\n",
       "      <td>C2048537720</td>\n",
       "      <td>41554.0</td>\n",
       "      <td>29885.86</td>\n",
       "      <td>M1230701703</td>\n",
       "      <td>0.0</td>\n",
       "      <td>0.0</td>\n",
       "      <td>0</td>\n",
       "      <td>0</td>\n",
       "    </tr>\n",
       "  </tbody>\n",
       "</table>\n",
       "</div>"
      ],
      "text/plain": [
       "   step      type    amount     nameOrig  oldbalanceOrg  newbalanceOrig  \\\n",
       "0     1   PAYMENT   9839.64  C1231006815       170136.0       160296.36   \n",
       "1     1   PAYMENT   1864.28  C1666544295        21249.0        19384.72   \n",
       "2     1  TRANSFER    181.00  C1305486145          181.0            0.00   \n",
       "3     1  CASH_OUT    181.00   C840083671          181.0            0.00   \n",
       "4     1   PAYMENT  11668.14  C2048537720        41554.0        29885.86   \n",
       "\n",
       "      nameDest  oldbalanceDest  newbalanceDest  isFraud  isFlaggedFraud  \n",
       "0  M1979787155             0.0             0.0        0               0  \n",
       "1  M2044282225             0.0             0.0        0               0  \n",
       "2   C553264065             0.0             0.0        1               0  \n",
       "3    C38997010         21182.0             0.0        1               0  \n",
       "4  M1230701703             0.0             0.0        0               0  "
      ]
     },
     "execution_count": 2,
     "metadata": {},
     "output_type": "execute_result"
    }
   ],
   "source": [
    "# importing csv data into a dataframe\n",
    "data = pd.read_csv('C:\\\\Users\\\\Dell\\\\Downloads\\\\Fraud.csv')\n",
    "data.head()"
   ]
  },
  {
   "cell_type": "markdown",
   "id": "b9279699",
   "metadata": {},
   "source": [
    "# Data Cleaning\n",
    "#### 1. Handling missing data\n",
    "#### 2. Handling inconsistant data\n",
    "#### 3. Handling outliers\n",
    "## Missing data"
   ]
  },
  {
   "cell_type": "code",
   "execution_count": 3,
   "id": "9d9540d7",
   "metadata": {},
   "outputs": [
    {
     "data": {
      "text/plain": [
       "False"
      ]
     },
     "execution_count": 3,
     "metadata": {},
     "output_type": "execute_result"
    }
   ],
   "source": [
    "# checking for missing values in the data\n",
    "data.isnull().values.any()\n",
    "# if True then there are missing values and if false there are no missing values"
   ]
  },
  {
   "cell_type": "markdown",
   "id": "b63934d5",
   "metadata": {},
   "source": [
    "the result is false so there are no missinng values in the dataset\n",
    "\n",
    "# Inconsistant data\n",
    "#### 1. Consistancy of datatypes of variables"
   ]
  },
  {
   "cell_type": "code",
   "execution_count": 4,
   "id": "1ec41a00",
   "metadata": {},
   "outputs": [
    {
     "name": "stdout",
     "output_type": "stream",
     "text": [
      "<class 'pandas.core.frame.DataFrame'>\n",
      "RangeIndex: 1048575 entries, 0 to 1048574\n",
      "Data columns (total 11 columns):\n",
      " #   Column          Non-Null Count    Dtype  \n",
      "---  ------          --------------    -----  \n",
      " 0   step            1048575 non-null  int64  \n",
      " 1   type            1048575 non-null  object \n",
      " 2   amount          1048575 non-null  float64\n",
      " 3   nameOrig        1048575 non-null  object \n",
      " 4   oldbalanceOrg   1048575 non-null  float64\n",
      " 5   newbalanceOrig  1048575 non-null  float64\n",
      " 6   nameDest        1048575 non-null  object \n",
      " 7   oldbalanceDest  1048575 non-null  float64\n",
      " 8   newbalanceDest  1048575 non-null  float64\n",
      " 9   isFraud         1048575 non-null  int64  \n",
      " 10  isFlaggedFraud  1048575 non-null  int64  \n",
      "dtypes: float64(5), int64(3), object(3)\n",
      "memory usage: 88.0+ MB\n"
     ]
    }
   ],
   "source": [
    "# checking data type consistensy in each column of data i.e. each variable\n",
    "data.info()"
   ]
  },
  {
   "cell_type": "markdown",
   "id": "19dc933b",
   "metadata": {},
   "source": [
    "so the variables step, amount, oldbalanceOrig, newbalanceOrig, oldbalanceDest, newbalanceDest, isFraud, isFlaggedFraud have consistant data types which is int64 or float64\n",
    "\n",
    "now we need to check for the datatypes object in variables type, nameOrig, nameDest have consists of same dtype"
   ]
  },
  {
   "cell_type": "code",
   "execution_count": 5,
   "id": "4dea8329",
   "metadata": {},
   "outputs": [
    {
     "data": {
      "text/plain": [
       "False"
      ]
     },
     "execution_count": 5,
     "metadata": {},
     "output_type": "execute_result"
    }
   ],
   "source": [
    "# checking if variable 'type' has any other object type other than 'str'\n",
    "(data['type'].map(type) != str).values.any()\n",
    "# if returned true there are 'type' variable consists object types other than 'str'"
   ]
  },
  {
   "cell_type": "code",
   "execution_count": 6,
   "id": "3e9ff29d",
   "metadata": {},
   "outputs": [
    {
     "data": {
      "text/plain": [
       "False"
      ]
     },
     "execution_count": 6,
     "metadata": {},
     "output_type": "execute_result"
    }
   ],
   "source": [
    "# checking if variable 'nameOrig' has any other object type other than 'str'\n",
    "(data['nameOrig'].map(type) != str).values.any()\n",
    "# if returned true there are 'type' variable consists object types other than 'str'"
   ]
  },
  {
   "cell_type": "code",
   "execution_count": 7,
   "id": "c803dfdd",
   "metadata": {},
   "outputs": [
    {
     "data": {
      "text/plain": [
       "False"
      ]
     },
     "execution_count": 7,
     "metadata": {},
     "output_type": "execute_result"
    }
   ],
   "source": [
    "# checking if variable 'nameDest' has any other object type other than 'str'\n",
    "(data['nameDest'].map(type) != str).values.any()\n",
    "# if returned true there are 'nameDest' variable consists object types other than 'str'"
   ]
  },
  {
   "cell_type": "markdown",
   "id": "e3488a68",
   "metadata": {},
   "source": [
    "so the dtypes are consistant across the variables 'type', 'nameOrig', 'nameDest'"
   ]
  },
  {
   "cell_type": "markdown",
   "id": "b820ef09",
   "metadata": {},
   "source": [
    "# 2. Duplicate data"
   ]
  },
  {
   "cell_type": "code",
   "execution_count": 8,
   "id": "90b885fa",
   "metadata": {},
   "outputs": [
    {
     "data": {
      "text/plain": [
       "0"
      ]
     },
     "execution_count": 8,
     "metadata": {},
     "output_type": "execute_result"
    }
   ],
   "source": [
    "# finding dupicate data and getting total number of duplicated data\n",
    "data.duplicated().sum()\n",
    "# returns number of duplicate data"
   ]
  },
  {
   "cell_type": "markdown",
   "id": "77b97b23",
   "metadata": {},
   "source": [
    "so there is no duplication in the data\n",
    "\n",
    "# 3. validity\n",
    "is the data consistant with the rules.\n",
    "\n",
    "Possible rules that apply here are related to transaction numbers like amount, orig balances and dest balances. The rule also depend on the type of transaction"
   ]
  },
  {
   "cell_type": "code",
   "execution_count": 9,
   "id": "4fb5cf7a",
   "metadata": {},
   "outputs": [
    {
     "data": {
      "text/plain": [
       "CASH_OUT    373641\n",
       "PAYMENT     353873\n",
       "CASH_IN     227130\n",
       "TRANSFER     86753\n",
       "DEBIT         7178\n",
       "Name: type, dtype: int64"
      ]
     },
     "execution_count": 9,
     "metadata": {},
     "output_type": "execute_result"
    }
   ],
   "source": [
    "data['type'].value_counts()"
   ]
  },
  {
   "cell_type": "markdown",
   "id": "e23e8baf",
   "metadata": {},
   "source": [
    "there same errors in newbalanceOrig and newbalanceDest, so for correcting this validity error we add extra 2 features errorbalanceOrig and errorbalanceDest\n",
    "\n",
    "errorbalanceOrig = (newbalanceOrig + amount) - oldbalanceOrig\n",
    "errorbalanceDest = (newbalanceDest + amount) - oldbalanceDest"
   ]
  },
  {
   "cell_type": "code",
   "execution_count": 10,
   "id": "f8468883",
   "metadata": {},
   "outputs": [],
   "source": [
    "data['errorbalanceOrig'] = data['newbalanceOrig'] + data['amount'] - data['oldbalanceOrg']\n",
    "data['errorbalanceDest'] = data['oldbalanceDest'] + data['amount'] - data['newbalanceDest']"
   ]
  },
  {
   "cell_type": "markdown",
   "id": "93b29a4f",
   "metadata": {},
   "source": [
    "# Data Analysis and Visualization"
   ]
  },
  {
   "cell_type": "code",
   "execution_count": 11,
   "id": "9d364d6b",
   "metadata": {},
   "outputs": [],
   "source": [
    "# importing libs/modules required for plotting\n",
    "import matplotlib.pyplot as plt\n",
    "%matplotlib inline"
   ]
  },
  {
   "cell_type": "code",
   "execution_count": 12,
   "id": "8c9a919f",
   "metadata": {},
   "outputs": [
    {
     "data": {
      "text/plain": [
       "0    1047433\n",
       "1       1142\n",
       "Name: isFraud, dtype: int64"
      ]
     },
     "execution_count": 12,
     "metadata": {},
     "output_type": "execute_result"
    }
   ],
   "source": [
    "# getting the number of fraud examples and number of not fraud examples\n",
    "n_fraud  = data['isFraud'].value_counts()\n",
    "n_fraud"
   ]
  },
  {
   "cell_type": "code",
   "execution_count": 13,
   "id": "83674e83",
   "metadata": {},
   "outputs": [
    {
     "data": {
      "image/png": "[encoded data removed]",
      "text/plain": [
       "<Figure size 360x648 with 1 Axes>"
      ]
     },
     "metadata": {
      "needs_background": "light"
     },
     "output_type": "display_data"
    }
   ],
   "source": [
    "# bar plot of count of fraud vs not fraud in thousands\n",
    "nf_plot = plt.figure(figsize=(5,9))\n",
    "plt.bar(['not_fraud','fraud'],n_fraud.values/1000)\n",
    "plt.title('Distribution of transactions')\n",
    "plt.ylabel('number of transactions')\n",
    "plt.show()"
   ]
  },
  {
   "cell_type": "markdown",
   "id": "12fc4412",
   "metadata": {},
   "source": [
    "ths shows that the data is highly imbalanced as the number of not_fraud examples are very very large when compared to number fraud examples. thus we must use resampling techniques to balance the data"
   ]
  },
  {
   "cell_type": "code",
   "execution_count": 14,
   "id": "4c0c66a6",
   "metadata": {},
   "outputs": [
    {
     "data": {
      "text/plain": [
       "CASH_OUT    578\n",
       "TRANSFER    564\n",
       "Name: type, dtype: int64"
      ]
     },
     "execution_count": 14,
     "metadata": {},
     "output_type": "execute_result"
    }
   ],
   "source": [
    "# getting count of transaction types in fraud data\n",
    "t_fraud_s = data[data['isFraud'] == 1]['type'].value_counts()\n",
    "t_fraud_s\n",
    "# returns transaction type and number fraud examples for each type"
   ]
  },
  {
   "cell_type": "code",
   "execution_count": 15,
   "id": "afc4e8d6",
   "metadata": {},
   "outputs": [],
   "source": [
    "t_fraud = []\n",
    "for t in ['CASH_OUT', 'PAYMENT', 'CASH_IN', 'TRANSFER', 'DEBIT' ]:\n",
    "    try:\n",
    "        t_fraud.append(t_fraud_s[t])\n",
    "    except:\n",
    "        t_fraud.append(0)"
   ]
  },
  {
   "cell_type": "code",
   "execution_count": 16,
   "id": "151449d4",
   "metadata": {},
   "outputs": [
    {
     "data": {
      "image/png": "[encoded data removed]",
      "text/plain": [
       "<Figure size 432x288 with 1 Axes>"
      ]
     },
     "metadata": {
      "needs_background": "light"
     },
     "output_type": "display_data"
    }
   ],
   "source": [
    "tf_plot = plt.figure()\n",
    "plt.bar(['CASH_OUT', 'PAYMENT', 'CASH_IN', 'TRANSFER', 'DEBIT' ],t_fraud)\n",
    "plt.title('Distribution of fraud between transaction types')\n",
    "plt.ylabel('number of fraud transactions')\n",
    "plt.show()"
   ]
  },
  {
   "cell_type": "markdown",
   "id": "a3aa4963",
   "metadata": {},
   "source": [
    "the fraud examples are equally distributed betwenn the types 'CASH_OUT', 'TRANSFER' but other transaction types do not contain any fraudulent transactions. this show that fraudulent transactions are only occuring within transaction types CASH_OUT and TRANSFER.\n",
    "\n",
    "this conveys that transaction types other than 'CASH_OUT', 'TRANSFER' have no relevence to fraud transactions, so examples with these types can be removed before training data. the algorithm if would if transaction type not 'CASH_OUT', 'TRANSFER' not fraudulent transaction else run the data into machine learning model to predict wether the transaction is fraud or not"
   ]
  },
  {
   "cell_type": "code",
   "execution_count": 17,
   "id": "bdab8106",
   "metadata": {},
   "outputs": [
    {
     "data": {
      "text/plain": [
       "CASH_OUT    373641\n",
       "PAYMENT     353873\n",
       "CASH_IN     227130\n",
       "TRANSFER     86753\n",
       "DEBIT         7178\n",
       "Name: type, dtype: int64"
      ]
     },
     "execution_count": 17,
     "metadata": {},
     "output_type": "execute_result"
    }
   ],
   "source": [
    "# count of each payment type\n",
    "data['type'].value_counts()"
   ]
  },
  {
   "cell_type": "code",
   "execution_count": 18,
   "id": "ed601efc",
   "metadata": {},
   "outputs": [
    {
     "data": {
      "image/png": "[encoded data removed]",
      "text/plain": [
       "<Figure size 432x288 with 1 Axes>"
      ]
     },
     "metadata": {
      "needs_background": "light"
     },
     "output_type": "display_data"
    }
   ],
   "source": [
    "# plot of transaction type distribution\n",
    "plot = plt.figure()\n",
    "plt.bar(data['type'].value_counts().index,data['type'].value_counts().values, color = ['blue','orange','green','pink','red'])\n",
    "plt.title('Distribution of transactions between transaction types')\n",
    "plt.ylabel('number of transactions')\n",
    "plt.show()"
   ]
  },
  {
   "cell_type": "markdown",
   "id": "be462032",
   "metadata": {},
   "source": [
    "\n",
    "this shows that cash out is the most used transaction type and debit being least used trasaction type.\n",
    "\n",
    "expected no. of fraud per 10000 transactions for individual type =\n",
    "total no. of frauds in indivitual transaction type / total no. of transactions of individual type"
   ]
  },
  {
   "cell_type": "code",
   "execution_count": 19,
   "id": "0ddcbf09",
   "metadata": {},
   "outputs": [
    {
     "data": {
      "text/plain": [
       "CASH_OUT    1.546939\n",
       "TRANSFER    6.501216\n",
       "Name: type, dtype: float64"
      ]
     },
     "execution_count": 19,
     "metadata": {},
     "output_type": "execute_result"
    }
   ],
   "source": [
    "# calculating occurence of fraud per 1000 transactions\n",
    "(t_fraud_s/data['type'].value_counts()[['CASH_OUT','TRANSFER']])*1000"
   ]
  },
  {
   "cell_type": "code",
   "execution_count": 20,
   "id": "9388add9",
   "metadata": {},
   "outputs": [
    {
     "data": {
      "image/png": "[encoded data removed]",
      "text/plain": [
       "<Figure size 432x288 with 1 Axes>"
      ]
     },
     "metadata": {
      "needs_background": "light"
     },
     "output_type": "display_data"
    }
   ],
   "source": [
    "tf_plot = plt.figure()\n",
    "plt.bar((t_fraud_s/data['type'].value_counts()[['CASH_OUT','TRANSFER']]).index,(t_fraud_s/data['type'].value_counts()[['CASH_OUT','TRANSFER']]).values*1000, color = ['blue','orange'], width = 0.5)\n",
    "plt.title('bar plot of expected fraud occurence')\n",
    "plt.ylabel('no. of frauds per 1000 transaction')\n",
    "plt.show()"
   ]
  },
  {
   "cell_type": "code",
   "execution_count": 21,
   "id": "d6fbf2dd",
   "metadata": {},
   "outputs": [
    {
     "data": {
      "text/html": [
       "<div>\n",
       "<style scoped>\n",
       "    .dataframe tbody tr th:only-of-type {\n",
       "        vertical-align: middle;\n",
       "    }\n",
       "\n",
       "    .dataframe tbody tr th {\n",
       "        vertical-align: top;\n",
       "    }\n",
       "\n",
       "    .dataframe thead th {\n",
       "        text-align: right;\n",
       "    }\n",
       "</style>\n",
       "<table border=\"1\" class=\"dataframe\">\n",
       "  <thead>\n",
       "    <tr style=\"text-align: right;\">\n",
       "      <th></th>\n",
       "      <th>step</th>\n",
       "      <th>type</th>\n",
       "      <th>amount</th>\n",
       "      <th>nameOrig</th>\n",
       "      <th>oldbalanceOrg</th>\n",
       "      <th>newbalanceOrig</th>\n",
       "      <th>nameDest</th>\n",
       "      <th>oldbalanceDest</th>\n",
       "      <th>newbalanceDest</th>\n",
       "      <th>isFraud</th>\n",
       "      <th>isFlaggedFraud</th>\n",
       "      <th>errorbalanceOrig</th>\n",
       "      <th>errorbalanceDest</th>\n",
       "    </tr>\n",
       "  </thead>\n",
       "  <tbody>\n",
       "    <tr>\n",
       "      <th>0</th>\n",
       "      <td>1</td>\n",
       "      <td>PAYMENT</td>\n",
       "      <td>9839.64</td>\n",
       "      <td>C1231006815</td>\n",
       "      <td>170136.0</td>\n",
       "      <td>160296.36</td>\n",
       "      <td>M1979787155</td>\n",
       "      <td>0.0</td>\n",
       "      <td>0.0</td>\n",
       "      <td>0</td>\n",
       "      <td>0</td>\n",
       "      <td>0.0</td>\n",
       "      <td>9839.64</td>\n",
       "    </tr>\n",
       "    <tr>\n",
       "      <th>1</th>\n",
       "      <td>1</td>\n",
       "      <td>PAYMENT</td>\n",
       "      <td>1864.28</td>\n",
       "      <td>C1666544295</td>\n",
       "      <td>21249.0</td>\n",
       "      <td>19384.72</td>\n",
       "      <td>M2044282225</td>\n",
       "      <td>0.0</td>\n",
       "      <td>0.0</td>\n",
       "      <td>0</td>\n",
       "      <td>0</td>\n",
       "      <td>0.0</td>\n",
       "      <td>1864.28</td>\n",
       "    </tr>\n",
       "    <tr>\n",
       "      <th>2</th>\n",
       "      <td>1</td>\n",
       "      <td>TRANSFER</td>\n",
       "      <td>181.00</td>\n",
       "      <td>C1305486145</td>\n",
       "      <td>181.0</td>\n",
       "      <td>0.00</td>\n",
       "      <td>C553264065</td>\n",
       "      <td>0.0</td>\n",
       "      <td>0.0</td>\n",
       "      <td>1</td>\n",
       "      <td>0</td>\n",
       "      <td>0.0</td>\n",
       "      <td>181.00</td>\n",
       "    </tr>\n",
       "    <tr>\n",
       "      <th>3</th>\n",
       "      <td>1</td>\n",
       "      <td>CASH_OUT</td>\n",
       "      <td>181.00</td>\n",
       "      <td>C840083671</td>\n",
       "      <td>181.0</td>\n",
       "      <td>0.00</td>\n",
       "      <td>C38997010</td>\n",
       "      <td>21182.0</td>\n",
       "      <td>0.0</td>\n",
       "      <td>1</td>\n",
       "      <td>0</td>\n",
       "      <td>0.0</td>\n",
       "      <td>21363.00</td>\n",
       "    </tr>\n",
       "    <tr>\n",
       "      <th>4</th>\n",
       "      <td>1</td>\n",
       "      <td>PAYMENT</td>\n",
       "      <td>11668.14</td>\n",
       "      <td>C2048537720</td>\n",
       "      <td>41554.0</td>\n",
       "      <td>29885.86</td>\n",
       "      <td>M1230701703</td>\n",
       "      <td>0.0</td>\n",
       "      <td>0.0</td>\n",
       "      <td>0</td>\n",
       "      <td>0</td>\n",
       "      <td>0.0</td>\n",
       "      <td>11668.14</td>\n",
       "    </tr>\n",
       "  </tbody>\n",
       "</table>\n",
       "</div>"
      ],
      "text/plain": [
       "   step      type    amount     nameOrig  oldbalanceOrg  newbalanceOrig  \\\n",
       "0     1   PAYMENT   9839.64  C1231006815       170136.0       160296.36   \n",
       "1     1   PAYMENT   1864.28  C1666544295        21249.0        19384.72   \n",
       "2     1  TRANSFER    181.00  C1305486145          181.0            0.00   \n",
       "3     1  CASH_OUT    181.00   C840083671          181.0            0.00   \n",
       "4     1   PAYMENT  11668.14  C2048537720        41554.0        29885.86   \n",
       "\n",
       "      nameDest  oldbalanceDest  newbalanceDest  isFraud  isFlaggedFraud  \\\n",
       "0  M1979787155             0.0             0.0        0               0   \n",
       "1  M2044282225             0.0             0.0        0               0   \n",
       "2   C553264065             0.0             0.0        1               0   \n",
       "3    C38997010         21182.0             0.0        1               0   \n",
       "4  M1230701703             0.0             0.0        0               0   \n",
       "\n",
       "   errorbalanceOrig  errorbalanceDest  \n",
       "0               0.0           9839.64  \n",
       "1               0.0           1864.28  \n",
       "2               0.0            181.00  \n",
       "3               0.0          21363.00  \n",
       "4               0.0          11668.14  "
      ]
     },
     "execution_count": 21,
     "metadata": {},
     "output_type": "execute_result"
    }
   ],
   "source": [
    "data.head()"
   ]
  },
  {
   "cell_type": "markdown",
   "id": "5adb94c1",
   "metadata": {},
   "source": [
    "# data preparation for model training"
   ]
  },
  {
   "cell_type": "code",
   "execution_count": 22,
   "id": "1a160998",
   "metadata": {},
   "outputs": [],
   "source": [
    "model_data = data[(data['type'] == 'CASH_OUT') | (data['type'] == 'TRANSFER')]\n",
    "model_data = model_data.drop(['nameOrig','nameDest'],axis = 1)\n",
    "model_data['type'].replace('TRANSFER', 0, inplace = True)\n",
    "model_data['type'].replace('CASH_OUT', 1, inplace = True)"
   ]
  },
  {
   "cell_type": "code",
   "execution_count": 23,
   "id": "6dcc060c",
   "metadata": {},
   "outputs": [],
   "source": [
    "model_y = model_data['isFraud']\n",
    "model_x = model_data.drop(['isFraud'],axis = 1)"
   ]
  },
  {
   "cell_type": "code",
   "execution_count": 24,
   "id": "7de2a838",
   "metadata": {},
   "outputs": [],
   "source": [
    "import sklearn\n",
    "import imblearn\n",
    "from imblearn.over_sampling import SMOTE\n",
    "from sklearn.model_selection import train_test_split\n",
    "from sklearn.preprocessing import StandardScaler\n",
    "from sklearn.metrics import confusion_matrix\n",
    "from sklearn.metrics import average_precision_score\n",
    "from sklearn.metrics import classification_report"
   ]
  },
  {
   "cell_type": "markdown",
   "id": "4206cf9e",
   "metadata": {},
   "source": [
    "# resampling of data using SMOTE\n",
    "# SMOTE : Synthatic Minority Over-Sampling Technique"
   ]
  },
  {
   "cell_type": "code",
   "execution_count": 25,
   "id": "d1f53264",
   "metadata": {},
   "outputs": [],
   "source": [
    "x_resample, y_resample = SMOTE().fit_resample(model_x, model_y.values.ravel())"
   ]
  },
  {
   "cell_type": "code",
   "execution_count": 26,
   "id": "a8b9314f",
   "metadata": {},
   "outputs": [],
   "source": [
    "x_train, x_test, y_train, y_test = train_test_split(x_resample, y_resample, test_size = 0.1, random_state = 0)"
   ]
  },
  {
   "cell_type": "code",
   "execution_count": 27,
   "id": "66a0ff7b",
   "metadata": {},
   "outputs": [],
   "source": [
    "sc = StandardScaler()\n",
    "\n",
    "x_train = sc.fit_transform(x_train)\n",
    "x_test = sc.transform(x_test)"
   ]
  },
  {
   "cell_type": "markdown",
   "id": "7487d1b1",
   "metadata": {},
   "source": [
    "# model selection and training\n",
    "\n",
    "# logistic regresion"
   ]
  },
  {
   "cell_type": "code",
   "execution_count": 28,
   "id": "76296891",
   "metadata": {},
   "outputs": [],
   "source": [
    "from sklearn.linear_model import LogisticRegression"
   ]
  },
  {
   "cell_type": "code",
   "execution_count": 29,
   "id": "c3a21e79",
   "metadata": {},
   "outputs": [],
   "source": [
    "model = LogisticRegression()\n",
    "model.fit(x_train,y_train)\n",
    "y_pred = model.predict(x_test)"
   ]
  },
  {
   "cell_type": "code",
   "execution_count": 30,
   "id": "0692f309",
   "metadata": {},
   "outputs": [
    {
     "name": "stdout",
     "output_type": "stream",
     "text": [
      "accuracy : 0.9348945574898477\n",
      "average precision score : 0.9099508964264172\n",
      "confusion matrix :\n",
      "  [[43773  2483]\n",
      " [ 3497 42098]]\n",
      "classification report :\n",
      "              precision    recall  f1-score   support\n",
      "\n",
      "           0       0.93      0.95      0.94     46256\n",
      "           1       0.94      0.92      0.93     45595\n",
      "\n",
      "    accuracy                           0.93     91851\n",
      "   macro avg       0.94      0.93      0.93     91851\n",
      "weighted avg       0.94      0.93      0.93     91851\n",
      "\n"
     ]
    }
   ],
   "source": [
    "# metrics\n",
    "print('accuracy : {}'.format(model.score(x_test,y_test)))\n",
    "print('average precision score : {}'.format(average_precision_score(y_test,y_pred)))\n",
    "print('confusion matrix :\\n  {}'.format(confusion_matrix(y_test,y_pred)))\n",
    "print('classification report :')\n",
    "print(classification_report(y_test,y_pred))"
   ]
  },
  {
   "cell_type": "markdown",
   "id": "6633dba2",
   "metadata": {},
   "source": [
    "# MLP Classifier (Neural Network)\n",
    "# MLP : Multi Layer Perceptron Classifier\n",
    "### Perceptron is an algorithm for supervised learning of binary classifiers. A binary classifier is a function which can decide whether or not an input, represented by a vector of numbers, belongs to some specific class."
   ]
  },
  {
   "cell_type": "code",
   "execution_count": 35,
   "id": "c55aebf5",
   "metadata": {
    "scrolled": true
   },
   "outputs": [
    {
     "name": "stderr",
     "output_type": "stream",
     "text": [
      "C:\\Users\\Dell\\AppData\\Local\\Programs\\Python\\Python310\\lib\\site-packages\\sklearn\\neural_network\\_multilayer_perceptron.py:699: UserWarning: Training interrupted by user.\n",
      "  warnings.warn(\"Training interrupted by user.\")\n"
     ]
    }
   ],
   "source": [
    "from sklearn.neural_network import MLPClassifier\n",
    "model = MLPClassifier([10,25,10])\n",
    "model.fit(x_train,y_train)\n",
    "y_pred = model.predict(x_test)  "
   ]
  },
  {
   "cell_type": "code",
   "execution_count": 34,
   "id": "f157516e",
   "metadata": {},
   "outputs": [
    {
     "name": "stdout",
     "output_type": "stream",
     "text": [
      "accuracy : 0.9837671881634387\n",
      "average precision score : 0.9821679209020504\n",
      "confusion matrix :\n",
      "  [[46130   126]\n",
      " [ 1365 44230]]\n",
      "classification report :\n",
      "              precision    recall  f1-score   support\n",
      "\n",
      "           0       0.97      1.00      0.98     46256\n",
      "           1       1.00      0.97      0.98     45595\n",
      "\n",
      "    accuracy                           0.98     91851\n",
      "   macro avg       0.98      0.98      0.98     91851\n",
      "weighted avg       0.98      0.98      0.98     91851\n",
      "\n"
     ]
    }
   ],
   "source": [
    "# metrics\n",
    "print('accuracy : {}'.format(model.score(x_test,y_test)))\n",
    "print('average precision score : {}'.format(average_precision_score(y_test,y_pred)))\n",
    "print('confusion matrix :\\n  {}'.format(confusion_matrix(y_test,y_pred)))\n",
    "print('classification report :')\n",
    "print(classification_report(y_test,y_pred))"
   ]
  },
  {
   "cell_type": "markdown",
   "id": "2101c96d",
   "metadata": {},
   "source": [
    "# XGBoost Classifier\n",
    "\n",
    "## XGBoost stands for Extreme Gradient Boosting, is a scalable, distributed, gradient boosted decision tree(GBDT) machine learning library. It provides parellel tree boosting and is the leading machine learning library for regression, classification, and ranking problems."
   ]
  },
  {
   "cell_type": "code",
   "execution_count": 31,
   "id": "98d819d7",
   "metadata": {},
   "outputs": [
    {
     "name": "stderr",
     "output_type": "stream",
     "text": [
      "C:\\Users\\Dell\\AppData\\Local\\Programs\\Python\\Python310\\lib\\site-packages\\xgboost\\compat.py:36: FutureWarning: pandas.Int64Index is deprecated and will be removed from pandas in a future version. Use pandas.Index with the appropriate dtype instead.\n",
      "  from pandas import MultiIndex, Int64Index\n",
      "C:\\Users\\Dell\\AppData\\Local\\Programs\\Python\\Python310\\lib\\site-packages\\xgboost\\sklearn.py:1224: UserWarning: The use of label encoder in XGBClassifier is deprecated and will be removed in a future release. To remove this warning, do the following: 1) Pass option use_label_encoder=False when constructing XGBClassifier object; and 2) Encode your labels (y) as integers starting with 0, i.e. 0, 1, 2, ..., [num_class - 1].\n",
      "  warnings.warn(label_encoder_deprecation_msg, UserWarning)\n"
     ]
    },
    {
     "name": "stdout",
     "output_type": "stream",
     "text": [
      "[09:28:46] WARNING: C:/Users/Administrator/workspace/xgboost-win64_release_1.5.1/src/learner.cc:1115: Starting in XGBoost 1.3.0, the default evaluation metric used with the objective 'binary:logistic' was changed from 'error' to 'logloss'. Explicitly set eval_metric if you'd like to restore the old behavior.\n"
     ]
    }
   ],
   "source": [
    "import xgboost as xgb\n",
    "from xgboost.sklearn import XGBClassifier\n",
    "from sklearn.metrics import average_precision_score\n",
    "\n",
    "model = XGBClassifier()\n",
    "model.fit(x_train, y_train)\n",
    "y_pred = model.predict(x_test)"
   ]
  },
  {
   "cell_type": "code",
   "execution_count": 32,
   "id": "ad610251",
   "metadata": {},
   "outputs": [
    {
     "name": "stdout",
     "output_type": "stream",
     "text": [
      "accuracy : 0.9993358809376055\n",
      "average precision score : 0.9989566443218838\n",
      "confusion matrix :\n",
      "  [[46222    34]\n",
      " [   27 45568]]\n",
      "classification report :\n",
      "              precision    recall  f1-score   support\n",
      "\n",
      "           0       1.00      1.00      1.00     46256\n",
      "           1       1.00      1.00      1.00     45595\n",
      "\n",
      "    accuracy                           1.00     91851\n",
      "   macro avg       1.00      1.00      1.00     91851\n",
      "weighted avg       1.00      1.00      1.00     91851\n",
      "\n"
     ]
    }
   ],
   "source": [
    "# metrics\n",
    "print('accuracy : {}'.format(model.score(x_test,y_test)))\n",
    "print('average precision score : {}'.format(average_precision_score(y_test,y_pred)))\n",
    "print('confusion matrix :\\n  {}'.format(confusion_matrix(y_test,y_pred)))\n",
    "print('classification report :')\n",
    "print(classification_report(y_test,y_pred))"
   ]
  },
  {
   "cell_type": "markdown",
   "id": "f837cc93",
   "metadata": {},
   "source": [
    "# THANK YOU"
   ]
  },
  {
   "cell_type": "code",
   "execution_count": null,
   "id": "5de01d52",
   "metadata": {},
   "outputs": [],
   "source": []
  },
  {
   "cell_type": "code",
   "execution_count": null,
   "id": "8476e78a",
   "metadata": {},
   "outputs": [],
   "source": []
  }
 ],
 "metadata": {
  "kernelspec": {
   "display_name": "Python 3 (ipykernel)",
   "language": "python",
   "name": "python3"
  },
  "language_info": {
   "codemirror_mode": {
    "name": "ipython",
    "version": 3
   },
   "file_extension": ".py",
   "mimetype": "text/x-python",
   "name": "python",
   "nbconvert_exporter": "python",
   "pygments_lexer": "ipython3",
   "version": "3.10.2"
  }
 },
 "nbformat": 4,
 "nbformat_minor": 5
}
